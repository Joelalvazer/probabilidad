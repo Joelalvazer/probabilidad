{
  "nbformat": 4,
  "nbformat_minor": 0,
  "metadata": {
    "colab": {
      "provenance": [],
      "authorship_tag": "ABX9TyMWlP6AJLzjyWr5rx9n0G34",
      "include_colab_link": true
    },
    "kernelspec": {
      "name": "python3",
      "display_name": "Python 3"
    },
    "language_info": {
      "name": "python"
    }
  },
  "cells": [
    {
      "cell_type": "markdown",
      "metadata": {
        "id": "view-in-github",
        "colab_type": "text"
      },
      "source": [
        "<a href=\"https://colab.research.google.com/github/Joelalvazer/probabilidad/blob/main/UNIDAD%204/Binomial.ipynb\" target=\"_parent\"><img src=\"https://colab.research.google.com/assets/colab-badge.svg\" alt=\"Open In Colab\"/></a>"
      ]
    },
    {
      "cell_type": "code",
      "execution_count": null,
      "metadata": {
        "id": "_na5F29UdxsJ"
      },
      "outputs": [],
      "source": [
        "###este problema es de distribuicion binomial\n",
        "from math import comb\n",
        "\n",
        "# Datos\n",
        "n = 10     # número de ensayos\n",
        "p = 0.1    # probabilidad de éxito\n",
        "k = 2      # número de éxitos deseados\n",
        "\n",
        "# Cálculo de la probabilidad binomial\n",
        "P = comb(n, k) * (p ** k) * ((1 - p) ** (n - k))\n",
        "print(f\"Probabilidad de que haya exactamente 2 defectuosos: {P:.4f}\")"
      ]
    }
  ]
}