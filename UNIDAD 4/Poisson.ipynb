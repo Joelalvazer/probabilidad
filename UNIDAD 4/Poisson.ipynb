{
  "nbformat": 4,
  "nbformat_minor": 0,
  "metadata": {
    "colab": {
      "provenance": [],
      "authorship_tag": "ABX9TyMv2gDy/ZaklfqeJjGU4sjt",
      "include_colab_link": true
    },
    "kernelspec": {
      "name": "python3",
      "display_name": "Python 3"
    },
    "language_info": {
      "name": "python"
    }
  },
  "cells": [
    {
      "cell_type": "markdown",
      "metadata": {
        "id": "view-in-github",
        "colab_type": "text"
      },
      "source": [
        "<a href=\"https://colab.research.google.com/github/Joelalvazer/probabilidad/blob/main/UNIDAD%204/Poisson.ipynb\" target=\"_parent\"><img src=\"https://colab.research.google.com/assets/colab-badge.svg\" alt=\"Open In Colab\"/></a>"
      ]
    },
    {
      "cell_type": "code",
      "execution_count": null,
      "metadata": {
        "id": "9QWYaBmQeg4b"
      },
      "outputs": [],
      "source": [
        "## Este problema es de distribuicion de poisson\n",
        "\n",
        "import math\n",
        "\n",
        "# Datos\n",
        "lam = 4   # tasa promedio (lambda)\n",
        "k = 6     # número de eventos deseado\n",
        "\n",
        "# Cálculo de la probabilidad Poisson\n",
        "P = (math.exp(-lam) * (lam ** k)) / math.factorial(k)\n",
        "print(f\"Probabilidad de recibir exactamente 6 llamadas: {P:.4f}\")"
      ]
    }
  ]
}