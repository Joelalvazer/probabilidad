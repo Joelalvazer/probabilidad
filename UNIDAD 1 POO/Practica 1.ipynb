{
  "nbformat": 4,
  "nbformat_minor": 0,
  "metadata": {
    "colab": {
      "provenance": [],
      "authorship_tag": "ABX9TyNGIEQuOhOiaJP/SkvmmBUT",
      "include_colab_link": true
    },
    "kernelspec": {
      "name": "python3",
      "display_name": "Python 3"
    },
    "language_info": {
      "name": "python"
    }
  },
  "cells": [
    {
      "cell_type": "markdown",
      "metadata": {
        "id": "view-in-github",
        "colab_type": "text"
      },
      "source": [
        "<a href=\"https://colab.research.google.com/github/Joelalvazer/probabilidad/blob/main/UNIDAD%201%20POO/Practica%201.ipynb\" target=\"_parent\"><img src=\"https://colab.research.google.com/assets/colab-badge.svg\" alt=\"Open In Colab\"/></a>"
      ]
    },
    {
      "cell_type": "code",
      "source": [
        "# **Programacion orientada a objetos**\n",
        "\n",
        "## Unidad 1\n",
        "\n",
        "### Practica 1. Definicion de las clases del sistema de libreria\n",
        "\n",
        "### Facilitador: *Dr. José Gabriel Rodríguez Rivas*\n",
        "\n",
        "### Alumno: Joel Avalos Alvarez"
      ],
      "metadata": {
        "id": "5CgLbSijPUmS"
      },
      "execution_count": null,
      "outputs": []
    },
    {
      "cell_type": "code",
      "execution_count": 1,
      "metadata": {
        "id": "-DVFMrPOPEIJ"
      },
      "outputs": [],
      "source": [
        "from datetime import date\n",
        "\n",
        "class Persona:\n",
        "    def _init_(self, nombre: str):\n",
        "        self.nombre = nombre\n",
        "\n",
        "class Libro:\n",
        "    def _init_(self, titulo: str, autor: str, isbn: str, precio: float):\n",
        "        self.titulo = titulo\n",
        "        self.autor = autor\n",
        "        self.isbn = isbn\n",
        "        self.precio = precio\n",
        "\n",
        "    def mostrar_info(self):\n",
        "        return f\"{self.titulo} - {self.autor} (${self.precio})\"\n",
        "\n",
        "class Cliente(Persona):\n",
        "    def _init_(self, nombre: str, email: str):\n",
        "        super()._init_(nombre)\n",
        "        self.email = email\n",
        "        self.historial = []\n",
        "\n",
        "    def comprar_libro(self, libro: Libro):\n",
        "        self.historial.append(libro)\n",
        "        return f\"{self.nombre} compró {libro.titulo}\"\n",
        "\n",
        "    def consultar_historial(self):\n",
        "        return [libro.mostrar_info() for libro in self.historial]\n",
        "\n",
        "class Trabajador(Persona):\n",
        "    def _init_(self, nombre: str, puesto: str):\n",
        "        super()._init_(nombre)\n",
        "        self.puesto = puesto\n",
        "\n",
        "    def registrar_venta(self, venta):\n",
        "        return f\"Venta registrada por {self.nombre} ({self.puesto})\"\n",
        "\n",
        "    def gestionar_inventario(self):\n",
        "        return \"Inventario gestionado\"\n",
        "\n",
        "class Prestamo:\n",
        "    def _init_(self, libro: Libro, cliente: Cliente, fecha_inicio: date, fecha_devolucion: date):\n",
        "        self.libro = libro\n",
        "        self.cliente = cliente\n",
        "        self.fecha_inicio = fecha_inicio\n",
        "        self.fecha_devolucion = fecha_devolucion\n",
        "\n",
        "    def verificar_estado(self):\n",
        "        hoy = date.today()\n",
        "        if hoy > self.fecha_devolucion:\n",
        "            return \"Préstamo vencido\"\n",
        "        return \"Préstamo vigente\"\n",
        "\n",
        "    def renovar_prestamo(self, nueva_fecha: date):\n",
        "        self.fecha_devolucion = nueva_fecha\n",
        "        return f\"Nuevo plazo hasta {self.fecha_devolucion}\"\n",
        "\n",
        "class Venta:\n",
        "    def _init_(self, cliente: Cliente, libros: list, fecha: date):\n",
        "        self.cliente = cliente\n",
        "        self.libros = libros\n",
        "        self.fecha = fecha\n",
        "        self.total = self.calcular_total()\n",
        "\n",
        "    def calcular_total(self):\n",
        "        return sum(libro.precio for libro in self.libros)\n",
        "\n",
        "    def generar_ticket(self):\n",
        "        libros_str = \", \".join([libro.titulo for libro in self.libros])\n",
        "        return f\"Cliente: {self.cliente.nombre}\\nLibros: {libros_str}\\nTotal: ${self.total}\\nFecha: {self.fecha}\""
      ]
    }
  ]
}