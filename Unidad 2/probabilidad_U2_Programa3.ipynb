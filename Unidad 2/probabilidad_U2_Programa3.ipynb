{
  "nbformat": 4,
  "nbformat_minor": 0,
  "metadata": {
    "colab": {
      "provenance": [],
      "authorship_tag": "ABX9TyOOWci7A/tdaPvQeHc5bQ4S",
      "include_colab_link": true
    },
    "kernelspec": {
      "name": "python3",
      "display_name": "Python 3"
    },
    "language_info": {
      "name": "python"
    }
  },
  "cells": [
    {
      "cell_type": "markdown",
      "metadata": {
        "id": "view-in-github",
        "colab_type": "text"
      },
      "source": [
        "<a href=\"https://colab.research.google.com/github/Joelalvazer/probabilidad/blob/main/Unidad%202/probabilidad_U2_Programa3.ipynb\" target=\"_parent\"><img src=\"https://colab.research.google.com/assets/colab-badge.svg\" alt=\"Open In Colab\"/></a>"
      ]
    },
    {
      "cell_type": "code",
      "execution_count": 1,
      "metadata": {
        "colab": {
          "base_uri": "https://localhost:8080/"
        },
        "id": "l2ZE5ZaSgMwm",
        "outputId": "6c510d82-1a6b-4108-df67-a8c5fd79df4d"
      },
      "outputs": [
        {
          "output_type": "stream",
          "name": "stdout",
          "text": [
            "5040\n"
          ]
        }
      ],
      "source": [
        "import math as mt\n",
        "\n",
        "n = 10\n",
        "r = 4\n",
        "\n",
        "Pr = mt.factorial(n) // mt.factorial(n-r)\n",
        "print(Pr)"
      ]
    }
  ]
}